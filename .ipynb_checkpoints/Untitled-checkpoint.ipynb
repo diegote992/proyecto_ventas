{
 "cells": [
  {
   "cell_type": "code",
   "execution_count": null,
   "id": "eb66d847-d741-4a5a-8bcf-05a4e7d7993b",
   "metadata": {},
   "outputs": [],
   "source": []
  }
 ],
 "metadata": {
  "kernelspec": {
   "display_name": "",
   "name": ""
  },
  "language_info": {
   "name": ""
  }
 },
 "nbformat": 4,
 "nbformat_minor": 5
}
